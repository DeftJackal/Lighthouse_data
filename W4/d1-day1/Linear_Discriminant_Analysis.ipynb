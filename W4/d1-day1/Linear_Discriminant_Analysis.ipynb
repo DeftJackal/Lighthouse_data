{
 "cells": [
  {
   "cell_type": "code",
   "execution_count": 1,
   "metadata": {},
   "outputs": [
    {
     "name": "stdout",
     "output_type": "stream",
     "text": [
      "\n",
      "total number of samples (rows): 178\n",
      "total number of features (columns): 13\n",
      "\n",
      "1st sample (i.e., 1st row):\n",
      "Class label: 1\n",
      "[14.23 1.71 2.43 15.60 127.00 2.80 3.06 0.28 2.29 5.64 1.04 3.92 1065.00]\n",
      "\n",
      "Class label frequencies\n",
      "Class 1 samples: 33.15%\n",
      "Class 2 samples: 39.89%\n",
      "Class 3 samples: 26.97%\n"
     ]
    }
   ],
   "source": [
    "import numpy as np\n",
    "\n",
    "# reading in all data into a NumPy array\n",
    "all_data = np.loadtxt(open(\"./wine_data1.csv\",\"r\"),\n",
    "        delimiter=\",\",\n",
    "        skiprows=1,\n",
    "        dtype=np.float64\n",
    "        )\n",
    "\n",
    "# load class labels from column 14\n",
    "y_wine = all_data[:,0]\n",
    "\n",
    "# conversion of the class labels to integer-type array\n",
    "y_wine = y_wine.astype(np.int64, copy=False)\n",
    "\n",
    "# load the 13 features\n",
    "X_wine = all_data[:,1:]\n",
    "\n",
    "# printing some general information about the data\n",
    "print('\\ntotal number of samples (rows):', X_wine.shape[0])\n",
    "print('total number of features (columns):', X_wine.shape[1])\n",
    "\n",
    "# printing the 1st wine sample\n",
    "float_formatter = lambda x: '{:.2f}'.format(x)\n",
    "np.set_printoptions(formatter={'float_kind':float_formatter})\n",
    "print('\\n1st sample (i.e., 1st row):\\nClass label: {:d}\\n{:}\\n'\n",
    "          .format(int(y_wine[0]), X_wine[0]))\n",
    "\n",
    "# printing the rel.frequency of the class labels\n",
    "print('Class label frequencies')\n",
    "print('Class 1 samples: {:.2%}'.format(list(y_wine).count(1)/y_wine.shape[0]))\n",
    "print('Class 2 samples: {:.2%}'.format(list(y_wine).count(2)/y_wine.shape[0]))\n",
    "print('Class 3 samples: {:.2%}'.format(list(y_wine).count(3)/y_wine.shape[0]))"
   ]
  },
  {
   "cell_type": "code",
   "execution_count": 2,
   "metadata": {},
   "outputs": [
    {
     "name": "stderr",
     "output_type": "stream",
     "text": [
      "C:\\ProgramData\\Anaconda3\\lib\\site-packages\\sklearn\\cross_validation.py:41: DeprecationWarning: This module was deprecated in version 0.18 in favor of the model_selection module into which all the refactored classes and functions are moved. Also note that the interface of the new CV iterators are different from that of this module. This module will be removed in 0.20.\n",
      "  \"This module will be removed in 0.20.\", DeprecationWarning)\n"
     ]
    }
   ],
   "source": [
    "from sklearn.cross_validation import train_test_split\n",
    "from sklearn import preprocessing\n",
    "\n",
    "X_train, X_test, y_train, y_test = train_test_split(X_wine, y_wine,\n",
    "     test_size=0.30, random_state=500)"
   ]
  },
  {
   "cell_type": "code",
   "execution_count": 5,
   "metadata": {},
   "outputs": [
    {
     "data": {
      "image/png": "[encoded data removed]",
      "text/plain": [
       "<matplotlib.figure.Figure at 0x1dd1c5f55f8>"
      ]
     },
     "metadata": {},
     "output_type": "display_data"
    }
   ],
   "source": [
    "import matplotlib.pyplot as plt\n",
    "from sklearn.discriminant_analysis import LinearDiscriminantAnalysis as LDA\n",
    "sklearn_lda = LDA(n_components=2) #similar to PCA\n",
    "transf_lda = sklearn_lda.fit_transform(X_train, y_train) \n",
    "\n",
    "plt.figure(figsize=(10,8))\n",
    "\n",
    "for label,marker,color in zip(\n",
    "        range(1,4),('x', 'o', '^'),('blue', 'red', 'green')):\n",
    "\n",
    "\n",
    "    plt.scatter(x=transf_lda[:,0][y_train == label],\n",
    "                y=transf_lda[:,1][y_train == label],\n",
    "                marker=marker,\n",
    "                color=color,\n",
    "                alpha=0.7,\n",
    "                label='class {}'.format(label)\n",
    "                )\n",
    "\n",
    "plt.xlabel('vector 1')\n",
    "plt.ylabel('vector 2')\n",
    "\n",
    "plt.legend()\n",
    "plt.title('Most significant singular vectors after linear transformation via LDA')\n",
    "\n",
    "plt.show()"
   ]
  },
  {
   "cell_type": "markdown",
   "metadata": {},
   "source": [
    "# Lets use this as a linear classifier"
   ]
  },
  {
   "cell_type": "code",
   "execution_count": 8,
   "metadata": {},
   "outputs": [
    {
     "name": "stdout",
     "output_type": "stream",
     "text": [
      "Prediction accuracy for the training dataset\n",
      "100.00%\n"
     ]
    }
   ],
   "source": [
    "from sklearn import metrics\n",
    "pred_train_lda = lda_clf.predict(X_train)\n",
    "\n",
    "print('Prediction accuracy for the training dataset')\n",
    "print('{:.2%}'.format(metrics.accuracy_score(y_train, pred_train_lda)))"
   ]
  },
  {
   "cell_type": "code",
   "execution_count": 9,
   "metadata": {},
   "outputs": [
    {
     "name": "stdout",
     "output_type": "stream",
     "text": [
      "Prediction accuracy for the test dataset\n",
      "100.00%\n"
     ]
    }
   ],
   "source": [
    "pred_test_lda = lda_clf.predict(X_test)\n",
    "\n",
    "print('Prediction accuracy for the test dataset')\n",
    "print('{:.2%}'.format(metrics.accuracy_score(y_test, pred_test_lda)))"
   ]
  },
  {
   "cell_type": "code",
   "execution_count": 10,
   "metadata": {},
   "outputs": [
    {
     "name": "stdout",
     "output_type": "stream",
     "text": [
      "Confusion Matrix of the LDA-classifier\n",
      "[[19  0  0]\n",
      " [ 0 19  0]\n",
      " [ 0  0 16]]\n"
     ]
    }
   ],
   "source": [
    "print('Confusion Matrix of the LDA-classifier')\n",
    "print(metrics.confusion_matrix(y_test, lda_clf.predict(X_test)))"
   ]
  }
 ],
 "metadata": {
  "kernelspec": {
   "display_name": "Python 3",
   "language": "python",
   "name": "python3"
  },
  "language_info": {
   "codemirror_mode": {
    "name": "ipython",
    "version": 3
   },
   "file_extension": ".py",
   "mimetype": "text/x-python",
   "name": "python",
   "nbconvert_exporter": "python",
   "pygments_lexer": "ipython3",
   "version": "3.6.5"
  }
 },
 "nbformat": 4,
 "nbformat_minor": 2
}
