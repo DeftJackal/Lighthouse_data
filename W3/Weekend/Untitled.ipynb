{
 "cells": [
  {
   "cell_type": "code",
   "execution_count": 27,
   "metadata": {},
   "outputs": [],
   "source": [
    "import scipy"
   ]
  },
  {
   "cell_type": "code",
   "execution_count": 28,
   "metadata": {},
   "outputs": [],
   "source": [
    "from pathlib import Path\n",
    "import numpy as np\n",
    "from scipy.cluster.vq import whiten, kmeans, vq"
   ]
  },
  {
   "cell_type": "code",
   "execution_count": 29,
   "metadata": {},
   "outputs": [],
   "source": [
    "data = Path('SMSSpamCollection.txt').read_text()\n",
    "data = data.strip()\n",
    "data = data.split(\"\\n\")"
   ]
  },
  {
   "cell_type": "code",
   "execution_count": 31,
   "metadata": {},
   "outputs": [
    {
     "data": {
      "text/plain": [
       "5574"
      ]
     },
     "execution_count": 31,
     "metadata": {},
     "output_type": "execute_result"
    }
   ],
   "source": [
    "len(data)"
   ]
  },
  {
   "cell_type": "code",
   "execution_count": 32,
   "metadata": {},
   "outputs": [],
   "source": [
    "digit_counts = np.empty((len(data), 2), dtype=int)"
   ]
  },
  {
   "cell_type": "code",
   "execution_count": 34,
   "metadata": {},
   "outputs": [],
   "source": [
    "for i, line in enumerate(data):\n",
    "    case, message = line.split(\"\\t\")\n",
    "    num_digits = sum(c.isdigit() for c in message)\n",
    "    digit_counts[i, 0] = 0 if case == \"ham\" else 1\n",
    "    digit_counts[i, 1] = num_digits"
   ]
  },
  {
   "cell_type": "code",
   "execution_count": 35,
   "metadata": {},
   "outputs": [],
   "source": [
    "unique_counts = np.unique(digit_counts[:, 1], return_counts=True)"
   ]
  },
  {
   "cell_type": "code",
   "execution_count": 37,
   "metadata": {},
   "outputs": [
    {
     "data": {
      "text/plain": [
       "(array([ 0,  1,  2,  3,  4,  5,  6,  7,  8,  9, 10, 11, 12, 13, 14, 15, 16,\n",
       "        17, 18, 19, 20, 21, 22, 23, 24, 25, 26, 27, 28, 29, 30, 31, 32, 33,\n",
       "        34, 35, 36, 37, 40, 41, 47]),\n",
       " array([4110,  486,  160,   78,   42,   39,   16,   14,   28,   17,   16,\n",
       "          34,   30,   31,   37,   29,   35,   33,   41,   47,   18,   31,\n",
       "          28,   36,   34,   16,   16,   13,   19,    9,    2,    6,    3,\n",
       "           4,    3,    4,    1,    1,    4,    2,    1], dtype=int64))"
      ]
     },
     "execution_count": 37,
     "metadata": {},
     "output_type": "execute_result"
    }
   ],
   "source": [
    "unique_counts"
   ]
  },
  {
   "cell_type": "code",
   "execution_count": 59,
   "metadata": {},
   "outputs": [],
   "source": [
    "unique_counts = np.transpose(np.vstack(unique_counts))"
   ]
  },
  {
   "cell_type": "code",
   "execution_count": 65,
   "metadata": {},
   "outputs": [],
   "source": [
    "whitened_counts = whiten(unique_counts)\n"
   ]
  },
  {
   "cell_type": "code",
   "execution_count": 66,
   "metadata": {},
   "outputs": [],
   "source": [
    "codebook, _ = kmeans(whitened_counts, 3)"
   ]
  },
  {
   "cell_type": "code",
   "execution_count": 67,
   "metadata": {},
   "outputs": [],
   "source": [
    "codes, _ = vq(whitened_counts, codebook)"
   ]
  },
  {
   "cell_type": "code",
   "execution_count": 68,
   "metadata": {},
   "outputs": [],
   "source": [
    "ham_code = codes[0]\n",
    "spam_code = codes[-1]\n",
    "unknown_code = list(set(range(3)) ^ set((ham_code, spam_code)))[0]"
   ]
  },
  {
   "cell_type": "code",
   "execution_count": 69,
   "metadata": {},
   "outputs": [
    {
     "name": "stdout",
     "output_type": "stream",
     "text": [
      "definitely ham: [   0 4110]\n",
      "definitely spam: [47  1]\n",
      "unknown: [20 18]\n"
     ]
    }
   ],
   "source": [
    "print(\"definitely ham:\", unique_counts[codes == ham_code][-1])\n",
    "print(\"definitely spam:\", unique_counts[codes == spam_code][-1])\n",
    "print(\"unknown:\", unique_counts[codes == unknown_code][-1])"
   ]
  },
  {
   "cell_type": "code",
   "execution_count": 70,
   "metadata": {},
   "outputs": [],
   "source": [
    "digits = digit_counts[:, 1]\n",
    "predicted_hams = digits == 0\n",
    "predicted_spams = digits > 20\n",
    "predicted_unknowns = np.logical_and(digits > 0, digits <= 20)"
   ]
  },
  {
   "cell_type": "code",
   "execution_count": 71,
   "metadata": {},
   "outputs": [],
   "source": [
    "spam_cluster = digit_counts[predicted_spams]\n",
    "ham_cluster = digit_counts[predicted_hams]\n",
    "unk_cluster = digit_counts[predicted_unknowns]"
   ]
  },
  {
   "cell_type": "code",
   "execution_count": 72,
   "metadata": {},
   "outputs": [
    {
     "name": "stdout",
     "output_type": "stream",
     "text": [
      "hams: (array([0, 1]), array([4071,   39], dtype=int64))\n",
      "spams: (array([0, 1]), array([  1, 232], dtype=int64))\n",
      "unknowns: (array([0, 1]), array([755, 476], dtype=int64))\n"
     ]
    }
   ],
   "source": [
    "print(\"hams:\", np.unique(ham_cluster[:, 0], return_counts=True))\n",
    "print(\"spams:\", np.unique(spam_cluster[:, 0], return_counts=True))\n",
    "print(\"unknowns:\", np.unique(unk_cluster[:, 0], return_counts=True))"
   ]
  },
  {
   "cell_type": "code",
   "execution_count": null,
   "metadata": {},
   "outputs": [],
   "source": []
  },
  {
   "cell_type": "code",
   "execution_count": 73,
   "metadata": {},
   "outputs": [],
   "source": [
    "from scipy.optimize import minimize_scalar\n",
    "\n",
    "def objective_function(x):\n",
    "    return 3 * x ** 4 - 2 * x + 1"
   ]
  },
  {
   "cell_type": "code",
   "execution_count": 75,
   "metadata": {},
   "outputs": [
    {
     "data": {
      "text/plain": [
       "     fun: 0.17451818777634331\n",
       "    nfev: 16\n",
       "     nit: 12\n",
       " success: True\n",
       "       x: 0.5503212087491959"
      ]
     },
     "execution_count": 75,
     "metadata": {},
     "output_type": "execute_result"
    }
   ],
   "source": [
    "res = minimize_scalar(objective_function)\n",
    "res"
   ]
  },
  {
   "cell_type": "code",
   "execution_count": 76,
   "metadata": {},
   "outputs": [],
   "source": [
    "def objective_function(x):\n",
    "    return x ** 4 - x ** 2"
   ]
  },
  {
   "cell_type": "code",
   "execution_count": 77,
   "metadata": {},
   "outputs": [
    {
     "data": {
      "text/plain": [
       "     fun: -0.24999999999999994\n",
       "    nfev: 15\n",
       "     nit: 11\n",
       " success: True\n",
       "       x: 0.7071067853059209"
      ]
     },
     "execution_count": 77,
     "metadata": {},
     "output_type": "execute_result"
    }
   ],
   "source": [
    "res = minimize_scalar(objective_function)\n",
    "res"
   ]
  },
  {
   "cell_type": "code",
   "execution_count": 78,
   "metadata": {},
   "outputs": [],
   "source": [
    "res = minimize_scalar(objective_function, bracket=(-1, 0))"
   ]
  },
  {
   "cell_type": "code",
   "execution_count": 79,
   "metadata": {},
   "outputs": [
    {
     "data": {
      "text/plain": [
       "     fun: -0.24999999999999997\n",
       "    nfev: 17\n",
       "     nit: 13\n",
       " success: True\n",
       "       x: 0.7071067809244586"
      ]
     },
     "execution_count": 79,
     "metadata": {},
     "output_type": "execute_result"
    }
   ],
   "source": [
    "res"
   ]
  },
  {
   "cell_type": "code",
   "execution_count": 81,
   "metadata": {},
   "outputs": [
    {
     "data": {
      "text/plain": [
       "     fun: -0.24999999999998732\n",
       " message: 'Solution found.'\n",
       "    nfev: 10\n",
       "  status: 0\n",
       " success: True\n",
       "       x: -0.707106701474177"
      ]
     },
     "execution_count": 81,
     "metadata": {},
     "output_type": "execute_result"
    }
   ],
   "source": [
    "res = minimize_scalar(objective_function, method='bounded', bounds=(-1, 0))\n",
    "res"
   ]
  },
  {
   "cell_type": "code",
   "execution_count": 96,
   "metadata": {},
   "outputs": [],
   "source": [
    "def function(val):\n",
    "    y = 4*((val-1)**2) + 5\n",
    "    return y"
   ]
  },
  {
   "cell_type": "code",
   "execution_count": 97,
   "metadata": {},
   "outputs": [
    {
     "data": {
      "text/plain": [
       "69"
      ]
     },
     "execution_count": 97,
     "metadata": {},
     "output_type": "execute_result"
    }
   ],
   "source": [
    "function(5)"
   ]
  },
  {
   "cell_type": "code",
   "execution_count": 98,
   "metadata": {},
   "outputs": [
    {
     "data": {
      "text/plain": [
       "41"
      ]
     },
     "execution_count": 98,
     "metadata": {},
     "output_type": "execute_result"
    }
   ],
   "source": [
    "function(4)"
   ]
  },
  {
   "cell_type": "code",
   "execution_count": 99,
   "metadata": {},
   "outputs": [
    {
     "data": {
      "text/plain": [
       "21"
      ]
     },
     "execution_count": 99,
     "metadata": {},
     "output_type": "execute_result"
    }
   ],
   "source": [
    "function(-1)"
   ]
  },
  {
   "cell_type": "code",
   "execution_count": 100,
   "metadata": {},
   "outputs": [
    {
     "data": {
      "text/plain": [
       "149"
      ]
     },
     "execution_count": 100,
     "metadata": {},
     "output_type": "execute_result"
    }
   ],
   "source": [
    "function(-5)"
   ]
  }
 ],
 "metadata": {
  "kernelspec": {
   "display_name": "Python 3",
   "language": "python",
   "name": "python3"
  },
  "language_info": {
   "codemirror_mode": {
    "name": "ipython",
    "version": 3
   },
   "file_extension": ".py",
   "mimetype": "text/x-python",
   "name": "python",
   "nbconvert_exporter": "python",
   "pygments_lexer": "ipython3",
   "version": "3.8.5"
  }
 },
 "nbformat": 4,
 "nbformat_minor": 4
}
