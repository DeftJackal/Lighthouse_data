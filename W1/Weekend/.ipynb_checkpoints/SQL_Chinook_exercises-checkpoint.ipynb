{
 "cells": [
  {
   "cell_type": "markdown",
   "metadata": {},
   "source": [
    "## We will be working with database chinook.db\n",
    "You can download it here: https://drive.google.com/file/d/0Bz9_0VdXvv9bWUtqM0NBYzhKZ3c/view?usp=sharing\n",
    "\n",
    "The\tChinook\tDatabase is\tabout an imaginary video and music store. Each track is\tstored using one of\tthe digital formats and\thas\ta genre. The store has also\tsome playlists,\twhere a single track can be\tpart of several\tplaylists. Orders are recorded\tfor\tcustomers, but are called invoices. Every customer is assigned a support employee, and Employees report to other employees."
   ]
  },
  {
   "cell_type": "markdown",
   "metadata": {},
   "source": [
    "### Which\tartists\tdid\tnot\tmake\tany\talbums\tat\tall?\tInclude\ttheir\tnames\tin your\tanswer."
   ]
  },
  {
   "cell_type": "raw",
   "metadata": {},
   "source": [
    "#1These artists did not produce any albums.\n",
    "# Didn't include query, Should be left join, select where album = null. \n",
    "25\tMilton Nascimento & Bebeto\t\t\t\n",
    "26\tAzymuth\t\t\t\n",
    "28\tJoão Gilberto\t\t\t\n",
    "29\tBebel Gilberto\t\t\t\n",
    "30\tJorge Vercilo\t\t\t\n",
    "31\tBaby Consuelo\t\t\t\n",
    "32\tNey Matogrosso\t\t\t\n",
    "33\tLuiz Melodia\t\t\t\n",
    "34\tNando Reis\t\t\t\n",
    "35\tPedro Luís & A Parede\t\t\t\n",
    "38\tBanda Black Rio\t\t\t\n",
    "39\tFernanda Porto\t\t\t\n",
    "40\tOs Cariocas\t\t\t\n",
    "43\tA Cor Do Som\t\t\t\n",
    "44\tKid Abelha\t\t\t\n",
    "45\tSandra De Sá\t\t\t\n",
    "47\tHermeto Pascoal\t\t\t\n",
    "48\tBarão Vermelho\t\t\t\n",
    "49\tEdson, DJ Marky & DJ Patife Featuring Fernanda Porto\t\t\t\n",
    "60\tSantana Feat. Dave Matthews\t\t\t\n",
    "61\tSantana Feat. Everlast\t\t\t\n",
    "62\tSantana Feat. Rob Thomas\t\t\t\n",
    "63\tSantana Feat. Lauryn Hill & Cee-Lo\t\t\t\n",
    "64\tSantana Feat. The Project G&B\t\t\t\n",
    "65\tSantana Feat. Maná\t\t\t\n",
    "66\tSantana Feat. Eagle-Eye Cherry\t\t\t\n",
    "67\tSantana Feat. Eric Clapton\t\t\t\n",
    "71\tVinícius De Moraes & Baden Powell\t\t\t\n",
    "73\tVinícius E Qurteto Em Cy\t\t\t\n",
    "74\tVinícius E Odette Lara\t\t\t\n",
    "75\tVinicius, Toquinho & Quarteto Em Cy\t\t\t\n",
    "107\tMotörhead & Girlschool\t\t\t\n",
    "119\tPeter Tosh\t\t\t\n",
    "123\tR.E.M. Feat. KRS-One\t\t\t\n",
    "129\tSimply Red\t\t\t\n",
    "154\tWhitesnake\t\t\t\n",
    "160\tChristina Aguilera featuring BigElf\t\t\t\n",
    "161\tAerosmith & Sierra Leone's Refugee Allstars\t\t\t\n",
    "162\tLos Lonely Boys\t\t\t\n",
    "163\tCorinne Bailey Rae\t\t\t\n",
    "164\tDhani Harrison & Jakob Dylan\t\t\t\n",
    "165\tJackson Browne\t\t\t\n",
    "166\tAvril Lavigne\t\t\t\n",
    "167\tBig & Rich\t\t\t\n",
    "168\tYoussou N'Dour\t\t\t\n",
    "169\tBlack Eyed Peas\t\t\t\n",
    "170\tJack Johnson\t\t\t\n",
    "171\tBen Harper\t\t\t\n",
    "172\tSnow Patrol\t\t\t\n",
    "173\tMatisyahu\t\t\t\n",
    "174\tThe Postal Service\t\t\t\n",
    "175\tJaguares\t\t\t\n",
    "176\tThe Flaming Lips\t\t\t\n",
    "177\tJack's Mannequin & Mick Fleetwood\t\t\t\n",
    "178\tRegina Spektor\t\t\t\n",
    "181\tXis\t\t\t\n",
    "182\tNega Gizza\t\t\t\n",
    "183\tGustavo & Andres Veiga & Salazar\t\t\t\n",
    "184\tRodox\t\t\t\n",
    "185\tCharlie Brown Jr.\t\t\t\n",
    "186\tPedro Luís E A Parede\t\t\t\n",
    "187\tLos Hermanos\t\t\t\n",
    "188\tMundo Livre S/A\t\t\t\n",
    "189\tOtto\t\t\t\n",
    "190\tInstituto\t\t\t\n",
    "191\tNação Zumbi\t\t\t\n",
    "192\tDJ Dolores & Orchestra Santa Massa\t\t\t\n",
    "193\tSeu Jorge\t\t\t\n",
    "194\tSabotage E Instituto\t\t\t\n",
    "195\tStereo Maracana\t\t\t\n",
    "239\tAcademy of St. Martin in the Fields, Sir Neville Marriner & William Bennett\t\t\t"
   ]
  },
  {
   "cell_type": "markdown",
   "metadata": {},
   "source": [
    "### Which\tartists\trecorded\tany\ttracks\tof\tthe\tLatin\tgenre?"
   ]
  },
  {
   "cell_type": "raw",
   "metadata": {},
   "source": [
    "#2 All artists with Latin Genre track. \n",
    "#SELECT DISTINCT artists.name, genres.Name FROM tracks \n",
    "#    JOIN albums ON tracks.AlbumId = albums.AlbumId\n",
    "#    JOIN genres ON genres.GenreId = tracks.GenreId\n",
    "#    JOIN artists ON artists.ArtistId = albums.ArtistId\n",
    "#    where genres.Name = 'Latin'\n",
    "\n",
    "\n",
    "Caetano Veloso\tLatin\n",
    "Chico Buarque\tLatin\n",
    "Chico Science & Nação Zumbi\tLatin\n",
    "Cláudio Zoli\tLatin\n",
    "Marcos Valle\tLatin\n",
    "Antônio Carlos Jobim\tLatin\n",
    "Gonzaguinha\tLatin\n",
    "Various Artists\tLatin\n",
    "Ed Motta\tLatin\n",
    "Cássia Eller\tLatin\n",
    "Djavan\tLatin\n",
    "Elis Regina\tLatin\n",
    "Falamansa\tLatin\n",
    "Funk Como Le Gusta\tLatin\n",
    "Gilberto Gil\tLatin\n",
    "Eric Clapton\tLatin\n",
    "Jorge Ben\tLatin\n",
    "Jota Quest\tLatin\n",
    "Legião Urbana\tLatin\n",
    "Lulu Santos\tLatin\n",
    "Marisa Monte\tLatin\n",
    "Milton Nascimento\tLatin\n",
    "Olodum\tLatin\n",
    "Os Paralamas Do Sucesso\tLatin\n",
    "Tim Maia\tLatin\n",
    "Vinícius De Moraes\tLatin"
   ]
  },
  {
   "cell_type": "markdown",
   "metadata": {},
   "source": [
    "### Which\tvideo track\thas\tthe\tlongest\tlength?"
   ]
  },
  {
   "cell_type": "raw",
   "metadata": {},
   "source": [
    "# 3 Longest Video Track\n",
    "# SELECT tracks.Name, tracks.Milliseconds, media_types.Name FROM tracks\n",
    "#  JOIN media_types ON tracks.MediaTypeId = media_types.MediaTypeId\n",
    "#  WHERE media_types.Name = 'Protected MPEG-4 video file'\n",
    "#  ORDER BY Milliseconds desc\n",
    "  \n",
    "Occupation / Precipice\t5286953\tProtected MPEG-4 video file  \n",
    "  \n",
    "  "
   ]
  },
  {
   "cell_type": "markdown",
   "metadata": {},
   "source": [
    "### Find\tthe\tnames\tof\tcustomers\twho\tlive\tin\tthe\tsame\tcity\tas\tthe\ttop\temployee\t(The\tone\tnot\tmanaged\tby\tanyone)."
   ]
  },
  {
   "cell_type": "code",
   "execution_count": null,
   "metadata": {},
   "outputs": [],
   "source": [
    "# 4 Customers in top Employee's city\n",
    "# SELECT customers.FirstName, customers.LastName FROM customers\n",
    "#  WHERE city IN (SELECT city FROM employees WHERE employees.ReportsTo is Null)\n",
    "14\tMark\tPhilips\t"
   ]
  },
  {
   "cell_type": "markdown",
   "metadata": {},
   "source": [
    "### Find\tthe\tmanagers of\temployees\tsupporting\tBrazilian\tcustomers."
   ]
  },
  {
   "cell_type": "code",
   "execution_count": null,
   "metadata": {},
   "outputs": [],
   "source": [
    "#5 Manager of Employees supporting Brazilian Customers  \n",
    "#SELECT customers.CustomerId, customers.Country, customers.SupportRepId, employees.ReportsTo, a.FirstName, a.Lastname FROM customers\n",
    "#JOIN employees ON employees.EmployeeID = SupportRepId\n",
    "#JOIN employees a ON a.EmployeeId = employees.ReportsTo\n",
    "#WHERE customers.Country = 'Brazil'\n",
    "\n",
    "\n",
    "\n",
    "\n",
    "1\tBrazil\t3\t2\tNancy\tEdwards\n",
    "10\tBrazil\t4\t2\tNancy\tEdwards\n",
    "11\tBrazil\t5\t2\tNancy\tEdwards\n",
    "12\tBrazil\t3\t2\tNancy\tEdwards\n",
    "13\tBrazil\t4\t2\tNancy\tEdwards"
   ]
  },
  {
   "cell_type": "markdown",
   "metadata": {},
   "source": [
    "### Which\tplaylists\thave\tno\tLatin\ttracks?"
   ]
  },
  {
   "cell_type": "raw",
   "metadata": {},
   "source": [
    "#6 Playlists with NO latin tracks\n",
    "#SELECT DISTINCT playlists.name FROM playlists\n",
    "#  JOIN playlist_track on playlists.PlaylistId = playlist_track.PlaylistId\n",
    "#  JOIN tracks on tracks.TrackId = playlist_track.TrackId\n",
    "#  JOIN genres on genres.GenreId = tracks.GenreId\n",
    "#  WHERE playlists.name not in (SELECT DISTINCT playlists.name FROM playlists\n",
    "#  JOIN playlist_track on playlists.PlaylistId = playlist_track.PlaylistId\n",
    "#  JOIN tracks on tracks.TrackId = playlist_track.TrackId\n",
    "#  JOIN genres on genres.GenreId = tracks.GenreId\n",
    "#  WHERE genres.name = 'Latin')\n",
    "#  ORDER BY playlists.name\n",
    "\n",
    "Classical\n",
    "Classical 101 - Deep Cuts\n",
    "Classical 101 - Next Steps\n",
    "Classical 101 - The Basics\n",
    "Grunge\n",
    "Heavy Metal Classic\n",
    "Music Videos\n",
    "On-The-Go 1\n",
    "TV Shows"
   ]
  }
 ],
 "metadata": {
  "kernelspec": {
   "display_name": "Python 3",
   "language": "python",
   "name": "python3"
  },
  "language_info": {
   "codemirror_mode": {
    "name": "ipython",
    "version": 3
   },
   "file_extension": ".py",
   "mimetype": "text/x-python",
   "name": "python",
   "nbconvert_exporter": "python",
   "pygments_lexer": "ipython3",
   "version": "3.8.5"
  }
 },
 "nbformat": 4,
 "nbformat_minor": 4
}
