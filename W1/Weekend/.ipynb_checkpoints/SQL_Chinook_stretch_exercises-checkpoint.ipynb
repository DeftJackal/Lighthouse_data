{
 "cells": [
  {
   "cell_type": "markdown",
   "metadata": {},
   "source": [
    "## We will be working with database chinook.db\n",
    "You can download it here: https://drive.google.com/file/d/0Bz9_0VdXvv9bWUtqM0NBYzhKZ3c/view?usp=sharing\n",
    "\n",
    "The\tChinook\tDatabase is\tabout an imaginary video and music store. Each track is\tstored using one of\tthe digital formats and\thas\ta genre. The store has also\tsome playlists,\twhere a single track can be\tpart of several\tplaylists. Orders are recorded\tfor\tcustomers, but are called invoices. Every customer is assigned a support employee, and Employees report to other employees."
   ]
  },
  {
   "cell_type": "markdown",
   "metadata": {},
   "source": [
    "### How\tmany\taudio tracks\tin\ttotal\twere\tbought\tby\tGerman\tcustomers? And\twhat\twas\tthe\ttotal\tprice\tpaid for\tthem?\n",
    "hint: use subquery to find all of tracks with their prices"
   ]
  },
  {
   "cell_type": "code",
   "execution_count": null,
   "metadata": {},
   "outputs": [],
   "source": [
    "#1 Audio tracks bought and Total Price\n",
    "#SELECT invoices.BillingCountry, COUNT(invoice_items.Quantity) as Total_Sold, SUM(invoice_items.UnitPrice*invoice_items.Quantity) as Total_Value_Sold FROM invoices\n",
    "#  JOIN invoice_items on invoices.InvoiceId = invoice_items.InvoiceId\n",
    "#  JOIN tracks ON tracks.TrackId = invoice_items.TrackId\n",
    "#  JOIN media_types ON tracks.MediaTypeId =media_types.MediaTypeId \n",
    "#  WHERE BillingCountry = 'Germany'\n",
    "#  AND media_types.Name != 'Protected MPEG-4 video file'\n",
    "#  GROUP BY invoices.BillingCountry\n",
    "\n",
    "Germany\t146\t144.53999999999985"
   ]
  },
  {
   "cell_type": "markdown",
   "metadata": {},
   "source": [
    "### What\tis\tthe\tspace,\tin\tbytes,\toccupied\tby\tthe\tplaylist\t“Grunge”,\tand\thow\tmuch\twould\tit\tcost?\n",
    "(Assume\tthat\tthe\tcost\tof\ta\tplaylist\tis\tthe\tsum\tof\tthe\tprice\tof\tits\tconstituent\ttracks)."
   ]
  },
  {
   "cell_type": "code",
   "execution_count": null,
   "metadata": {},
   "outputs": [],
   "source": [
    "#2 Grunge playlist Size and Cost\n",
    "SELECT playlists.Name, SUM(tracks.Bytes) as Size, SUM(tracks.UnitPrice) as TotalPrice FROM playlists\n",
    "  JOIN playlist_track ON playlists.PlaylistId = playlist_track.PlaylistId\n",
    "  JOIN tracks ON tracks.TrackId = playlist_track.TrackId\n",
    "  WHERE playlists.Name = 'Grunge'\n",
    "    \n",
    "Grunge\t130886739\t14.850000000000001    "
   ]
  },
  {
   "cell_type": "markdown",
   "metadata": {},
   "source": [
    "### List\tthe\tnames\tand\tthe\tcountries\tof\tthose\tcustomers\twho\tare\tsupported\tby\tan\temployee\twho\twas\tyounger\tthan\t35\twhen\thired. "
   ]
  },
  {
   "cell_type": "code",
   "execution_count": null,
   "metadata": {},
   "outputs": [],
   "source": [
    "# Names and Countries of young support Employees.\n",
    "#SELECT customers.FirstName, customers.LastName, customers.Country FROM employees\n",
    "#  JOIN customers ON customers.SupportRepId = employees.EmployeeId\n",
    "#  WHERE (employees.HireDate - employees.BirthDate)  < 35\n",
    "\n",
    "Luís\tGonçalves\tBrazil\n",
    "François\tTremblay\tCanada\n",
    "Roberto\tAlmeida\tBrazil\n",
    "Jennifer\tPeterson\tCanada\n",
    "Michelle\tBrooks\tUSA\n",
    "Tim\tGoyer\tUSA\n",
    "Frank\tRalston\tUSA\n",
    "Robert\tBrown\tCanada\n",
    "Edward\tFrancis\tCanada\n",
    "Ellie\tSullivan\tCanada\n",
    "Fynn\tZimmermann\tGermany\n",
    "Niklas\tSchröder\tGermany\n",
    "Wyatt\tGirard\tFrance\n",
    "Isabelle\tMercier\tFrance\n",
    "Terhi\tHämäläinen\tFinland\n",
    "Ladislav\tKovács\tHungary\n",
    "Hugh\tO'Reilly\tIreland\n",
    "Emma\tJones\tUnited Kingdom\n",
    "Phil\tHughes\tUnited Kingdom\n",
    "Manoj\tPareek\tIndia\n",
    "Puja\tSrivastava\tIndia"
   ]
  }
 ],
 "metadata": {
  "kernelspec": {
   "display_name": "Python 3",
   "language": "python",
   "name": "python3"
  },
  "language_info": {
   "codemirror_mode": {
    "name": "ipython",
    "version": 3
   },
   "file_extension": ".py",
   "mimetype": "text/x-python",
   "name": "python",
   "nbconvert_exporter": "python",
   "pygments_lexer": "ipython3",
   "version": "3.8.5"
  }
 },
 "nbformat": 4,
 "nbformat_minor": 4
}
