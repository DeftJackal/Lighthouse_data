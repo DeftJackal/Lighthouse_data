{
 "cells": [
  {
   "cell_type": "code",
   "execution_count": null,
   "metadata": {},
   "outputs": [],
   "source": [
    "# A Cell block is represented by a list of binary integers. \n",
    "#Every time a prisoner is released, the integers flip. If 1 represents open cells, acn you cannot free the person in the first block, create a function to free the most prisoners.  "
   ]
  },
  {
   "cell_type": "code",
   "execution_count": 1,
   "metadata": {},
   "outputs": [],
   "source": [
    "def prisonerEscape(cell_block):\n",
    "    prisoners_freed = 0\n",
    "    i = 0\n",
    "    while i < len(cell_block):\n",
    "        if cell_block[0] == 0:\n",
    "            break\n",
    "        elif cell_block[i] == 1:\n",
    "            prisoners_freed +=1\n",
    "            cell_block = [abs(x-1) for x in cell_block]\n",
    "        i +=1   \n",
    "    return prisoners_freed"
   ]
  },
  {
   "cell_type": "code",
   "execution_count": 8,
   "metadata": {},
   "outputs": [
    {
     "data": {
      "text/plain": [
       "1"
      ]
     },
     "execution_count": 8,
     "metadata": {},
     "output_type": "execute_result"
    }
   ],
   "source": [
    "prisonerEscape([1,1,0])"
   ]
  },
  {
   "cell_type": "code",
   "execution_count": 3,
   "metadata": {},
   "outputs": [],
   "source": [
    "def prison_code(ls):\n",
    "    count=0\n",
    "    print(f\"Prisoners freed so far: {count}\")\n",
    "    print(f\"Current prison status: {ls}\")\n",
    "    for i in range(len(ls)):\n",
    "        if i==1:\n",
    "            count=count+1\n",
    "            ls = [abs(x - 1) for x in ls]\n",
    "            print(f\"Prisoners freed so far: {count}\")\n",
    "            print(f\"Current prison status: {ls}\")\n",
    "    print(f'Total prisoners freed: {count}\\n')"
   ]
  },
  {
   "cell_type": "code",
   "execution_count": 4,
   "metadata": {},
   "outputs": [],
   "source": [
    "prison = [1,0,1]\n"
   ]
  },
  {
   "cell_type": "code",
   "execution_count": 5,
   "metadata": {},
   "outputs": [
    {
     "name": "stdout",
     "output_type": "stream",
     "text": [
      "Prisoners freed so far: 0\n",
      "Current prison status: [1, 0, 1]\n",
      "Prisoners freed so far: 1\n",
      "Current prison status: [0, 1, 0]\n",
      "Total prisoners freed: 1\n",
      "\n"
     ]
    }
   ],
   "source": [
    "prison_code(prison)"
   ]
  }
 ],
 "metadata": {
  "kernelspec": {
   "display_name": "Python 3",
   "language": "python",
   "name": "python3"
  },
  "language_info": {
   "codemirror_mode": {
    "name": "ipython",
    "version": 3
   },
   "file_extension": ".py",
   "mimetype": "text/x-python",
   "name": "python",
   "nbconvert_exporter": "python",
   "pygments_lexer": "ipython3",
   "version": "3.8.5"
  }
 },
 "nbformat": 4,
 "nbformat_minor": 4
}
